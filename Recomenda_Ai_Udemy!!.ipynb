{
  "nbformat": 4,
  "nbformat_minor": 0,
  "metadata": {
    "colab": {
      "name": "Recomenda Ai Udemy!!",
      "provenance": [],
      "collapsed_sections": [],
      "include_colab_link": true
    },
    "kernelspec": {
      "display_name": "Python 3",
      "name": "python3"
    },
    "language_info": {
      "name": "python"
    }
  },
  "cells": [
    {
      "cell_type": "markdown",
      "metadata": {
        "id": "view-in-github",
        "colab_type": "text"
      },
      "source": [
        "<a href=\"https://colab.research.google.com/github/gabriela-js/Recomenda-Ai-Udemy/blob/main/Recomenda_Ai_Udemy!!.ipynb\" target=\"_parent\"><img src=\"https://colab.research.google.com/assets/colab-badge.svg\" alt=\"Open In Colab\"/></a>"
      ]
    },
    {
      "cell_type": "markdown",
      "metadata": {
        "id": "jlJccLWWqcZT"
      },
      "source": [
        "# **Através, do artigo publicado pela TecnoMundo dos TOP 9 cursos procurados dentro da plataforma Udemy, surgiu a ideia de reutilizar o projeto final proposto pelo curso de Lógica de Programação com Python utilizando módulo e acrescentando a opção de pagamento de um curso via teclado.**\n",
        "\n",
        "\n",
        "---\n",
        "\n"
      ]
    },
    {
      "cell_type": "markdown",
      "metadata": {
        "id": "hjA5Tfqyud21"
      },
      "source": [
        "# **Interface de interação com o usuário**"
      ]
    },
    {
      "cell_type": "code",
      "metadata": {
        "colab": {
          "base_uri": "https://localhost:8080/"
        },
        "id": "rnw023P2ODIJ",
        "outputId": "b4f9412f-a6e9-48a6-e3a1-57bcf45148a7"
      },
      "source": [
        "!pip install emoji\n",
        "import emoji\n",
        " \n",
        "print(emoji.emojize(\"Seja Bem-vindo(a) :smile:\", use_aliases=True))\n",
        "nome = input(\"Digite como gosta de ser chamado(a): \")\n",
        "print(emoji.emojize(f\"Blz {nome}, estou aqui para te auxiliar nas melhores indicações de nossos cursos. :clapping_hands:\", use_aliases= True))\n",
        " \n",
        "print(f\"************** Assuntos mais pesquisados na Udemy: *************\")\n",
        "assuntos_preferidos = [\"Criação de conteúdo\",\n",
        "                       \"Capacitação Profissional\",\n",
        "                       \"Vendas\",\n",
        "                       \"Desenvolvimento Web\", \n",
        "                       \"Analise de Dados\",\n",
        "                       \"Negócio\",\n",
        "                       \"Marketing Digital\",\n",
        "                       \"Programação\",\n",
        "                       \"Banco de Dados\", \n",
        "                       \"YouTube\",\n",
        "                       \"Design\"]\n",
        "                       \n",
        "#Exibir todos os elementos dentro da lista\n",
        "for n in range(len(assuntos_preferidos)):\n",
        "    print(f\"{n}. {assuntos_preferidos[n]}\")\n",
        " \n",
        "#função range retornar a sequencia dos numeros\n",
        "#len exibir todos os elementos dentro da lista\n",
        " \n",
        "num_assuntos = input(\n",
        "      \"Agora {nome}, preciso que digite os números dos seus assuntos preferidos (utilize vírgulas. EX: 1,2,3): \"\n",
        "  )\n",
        " \n",
        " \n",
        "tempos = float(input(f\"Muito bem {nome}, preciso que me informe o tempo disponivel para se dedicar aos estudos (minutos):  \\n\"))\n",
        " \n",
        "mostrar_cursos_pagos = float(input(f\"{nome} gostaria de investir quanto?  R$ \"))\n",
        " \n",
        "#Recebe dois tipos de dados, dependendo da sua resposta"
      ],
      "execution_count": 1,
      "outputs": [
        {
          "output_type": "stream",
          "text": [
            "Collecting emoji\n",
            "\u001b[?25l  Downloading https://files.pythonhosted.org/packages/24/fa/b3368f41b95a286f8d300e323449ab4e86b85334c2e0b477e94422b8ed0f/emoji-1.2.0-py3-none-any.whl (131kB)\n",
            "\r\u001b[K     |██▌                             | 10kB 12.4MB/s eta 0:00:01\r\u001b[K     |█████                           | 20kB 17.6MB/s eta 0:00:01\r\u001b[K     |███████▌                        | 30kB 11.6MB/s eta 0:00:01\r\u001b[K     |██████████                      | 40kB 9.0MB/s eta 0:00:01\r\u001b[K     |████████████▌                   | 51kB 4.5MB/s eta 0:00:01\r\u001b[K     |███████████████                 | 61kB 5.0MB/s eta 0:00:01\r\u001b[K     |█████████████████▌              | 71kB 5.0MB/s eta 0:00:01\r\u001b[K     |████████████████████            | 81kB 5.4MB/s eta 0:00:01\r\u001b[K     |██████████████████████▌         | 92kB 5.6MB/s eta 0:00:01\r\u001b[K     |█████████████████████████       | 102kB 5.9MB/s eta 0:00:01\r\u001b[K     |███████████████████████████▌    | 112kB 5.9MB/s eta 0:00:01\r\u001b[K     |██████████████████████████████  | 122kB 5.9MB/s eta 0:00:01\r\u001b[K     |████████████████████████████████| 133kB 5.9MB/s \n",
            "\u001b[?25hInstalling collected packages: emoji\n",
            "Successfully installed emoji-1.2.0\n",
            "Seja Bem-vindo(a) 😄\n",
            "Digite como gosta de ser chamado(a): Gaby\n",
            "Blz Gaby, estou aqui para te auxiliar nas melhores indicações de nossos cursos. 👏\n",
            "************** Assuntos mais pesquisados na Udemy: *************\n",
            "0. Criação de conteúdo\n",
            "1. Capacitação Profissional\n",
            "2. Vendas\n",
            "3. Desenvolvimento Web\n",
            "4. Analise de Dados\n",
            "5. Negócio\n",
            "6. Marketing Digital\n",
            "7. Programação\n",
            "8. Banco de Dados\n",
            "9. YouTube\n",
            "10. Design\n",
            "Agora {nome}, preciso que digite os números dos seus assuntos preferidos (utilize vírgulas. EX: 1,2,3): 1,2,6\n",
            "Muito bem Gaby, preciso que me informe o tempo disponivel para se dedicar aos estudos (minutos):  \n",
            "25\n",
            "Gaby gostaria de investir quanto?  R$ 30\n"
          ],
          "name": "stdout"
        }
      ]
    },
    {
      "cell_type": "markdown",
      "metadata": {
        "id": "EVBmQoWbrJ8n"
      },
      "source": [
        " Os tipos de dados de entrada."
      ]
    },
    {
      "cell_type": "code",
      "metadata": {
        "colab": {
          "base_uri": "https://localhost:8080/"
        },
        "id": "4VfxdktuQ7bU",
        "outputId": "b423019d-ae4d-4ea7-bad8-aa8af4590c2c"
      },
      "source": [
        "print(type(nome))\n",
        "print(type(num_assuntos))\n",
        "print(type(tempos))\n",
        "print(type(mostrar_cursos_pagos))\n",
        " \n",
        "print(f\"Nome: {nome}\")\n",
        "print(f\"ID Assuntos preferidos: {num_assuntos}\")\n",
        "print(f\"Tempo de estudos: {tempos} minutos\")\n",
        "print(f\"Mostrar os cursos pagos ou gratuitos: {mostrar_cursos_pagos}\")\n",
        " \n",
        "#split() - separa uma lista em valores de uma string e quebra o espaço dela\n",
        "#strip() - remove espaços que estão antes ou depois da string\n",
        " \n",
        "num_assuntos = num_assuntos.split(\",\")\n",
        "nassuntos = []\n",
        "for item in num_assuntos:\n",
        "  number = int(item.strip())\n",
        "  nassuntos.append(number)\n",
        " \n",
        "print(nassuntos)"
      ],
      "execution_count": 2,
      "outputs": [
        {
          "output_type": "stream",
          "text": [
            "<class 'str'>\n",
            "<class 'str'>\n",
            "<class 'float'>\n",
            "<class 'float'>\n",
            "Nome: Gaby\n",
            "ID Assuntos preferidos: 1,2,6\n",
            "Tempo de estudos: 25.0 minutos\n",
            "Mostrar os cursos pagos ou gratuitos: 30.0\n",
            "[1, 2, 6]\n"
          ],
          "name": "stdout"
        }
      ]
    },
    {
      "cell_type": "code",
      "metadata": {
        "id": "qF4dPy2JezAj"
      },
      "source": [
        "cursos = [\"Como conseguir fotos, ilustrações e vídeos gratuitos na web\",\n",
        "          \"Como empreender e resolver problemas com metodologia ágil\",\n",
        "          \"Como fazer um ChatBot em 1 dia\",\n",
        "          \"Como fazer um APP em dia! (com Ionic e Firebase)\",\n",
        "          \"Data Science: visualização de dados com python\",\n",
        "          \"Desenvolvendo uma ideia: do conceito a execução\",\n",
        "          \"Curso Completo de Marketing Digital - 23 Cursos em 1\",\n",
        "          \"Curso Completo de Instagram Marketing\",\n",
        "          \"Curso Design Grafico Completo - 7 Cursos do Zero ao Avançado\",\n",
        "          \"Curso de Programação em Python - do básico ao avançado\",\n",
        "          \"Curso Web Moderno com JavaScript 2019 COMPLETO + Projetos\"\n",
        "          \"Do Básico ao Avançado - O Curso Completo de Microsoft Excel\",\n",
        "          \"Google Ads (Adwords) COMPLETO + Remarketing + YoTube Ads\",\n",
        "          \"Power BI Completo - Do Básico ao Avançado\",\n",
        "          \"O Curso Completo de Banco de Dados e SQL, sem mistérios!\",]\n",
        " \n",
        "tempo = [  50,\n",
        "           39,\n",
        "           79,\n",
        "           75,\n",
        "           63,\n",
        "           37,\n",
        "           1680,\n",
        "           480,\n",
        "           1920,\n",
        "           3810,\n",
        "           5340,\n",
        "           690,\n",
        "           960,\n",
        "           570,\n",
        "          3480,\n",
        "         ]\n",
        " \n",
        "categoria_curso = [\n",
        "    [\"design\", \"criação de conteúdo\"],\n",
        "    [\"negocio\", \"capacitação profissional\"],\n",
        "    [\"programação\", \"capacitação profissional\"],\n",
        "    [\"programação\", \"capacitação profissional\", \"banco de dados\"],\n",
        "    [\"analise de dados\", \"programação\"],\n",
        "    [\"criação de conteúdo\", \"capacitação profissional\", \"negocio\"],\n",
        "    [\"marketing digital\", \"vendas\", \"negocio\", \"capacitação profissional\"],\n",
        "    [\"criação de conteúdo\", \"vendas\", \"marketing digital\", \"negocio\"],\n",
        "    [\"design\", \"capacitação profissional\", \"analise de dados\"],\n",
        "    [\"programação\", \"capacitação profissional\", \"criação de conteúdo\"],\n",
        "    [\"desenvolvimento web\", \"programção\", \"capacitação profissional\"],\n",
        "    [\"negocio\", \"vendas\",\"analise de dados\", \"capacitação profissional\"],\n",
        "    [\"criação de conteúdo\", \"youtube\", \"marketing\", \"analise de dados\"],\n",
        "    [\"analise de dados\", \"vendas\", \"capacitação profissional\"],\n",
        "    [\"programação\", \"banco de dados\", \"capacitação profissional\"],\n",
        "    []\n",
        "]\n",
        " \n",
        "gratuito = [0.00,\n",
        "            0.00,\n",
        "            0.00,\n",
        "            0.00,\n",
        "            0.00,\n",
        "            0.00,\n",
        "            349.90,\n",
        "            499.90,\n",
        "            429.90,\n",
        "            349.90,\n",
        "            99.90,\n",
        "            449.90,\n",
        "            279.90,\n",
        "            39.90,\n",
        "            ]"
      ],
      "execution_count": 3,
      "outputs": []
    },
    {
      "cell_type": "code",
      "metadata": {
        "colab": {
          "base_uri": "https://localhost:8080/"
        },
        "id": "mck03ELxJUtw",
        "outputId": "b7c3952e-118a-4d18-95c8-95a58ba76fcd"
      },
      "source": [
        "assuntos_selecionados = []\n",
        "for n in nassuntos:\n",
        "  assuntos_selecionados.append(assuntos_preferidos[n].upper())\n",
        " \n",
        "print(assuntos_selecionados)"
      ],
      "execution_count": 4,
      "outputs": [
        {
          "output_type": "stream",
          "text": [
            "['CAPACITAÇÃO PROFISSIONAL', 'VENDAS', 'MARKETING DIGITAL']\n"
          ],
          "name": "stdout"
        }
      ]
    },
    {
      "cell_type": "code",
      "metadata": {
        "colab": {
          "base_uri": "https://localhost:8080/"
        },
        "id": "wTkjB4TeOFhX",
        "outputId": "281d265e-ac0e-4924-efcc-3f715ad58999"
      },
      "source": [
        "print(f\"{nome}, após analisar o seu perfil selecionamos os seguintes cursos: \")\n",
        "for ass in assuntos_selecionados:\n",
        "  print(f\"{ass}:\")\n",
        "  for linha in range(len(cursos)):\n",
        "    #if gratuito[linha] or mostrar_cursos_pagos:\n",
        "    if (ass.lower() in categoria_curso[linha] and gratuito[linha] <= mostrar_cursos_pagos\n",
        "       and tempo[linha] <= tempos):\n",
        "       print(f\"-{cursos[linha]} ({tempo[linha]} min) (R${gratuito[linha]})\")\n",
        " \n",
        " \n",
        "print(\"-----------------------------------------------------------------------------------------------------------------\")\n",
        "print(f\"Bom, espero que tenha se indentificado com a escolha que fizemos {nome}. \\nLembrando que caso, você não ache os cursos selecionados interessantes,\\npoderá refazer a seleção novamente.\")\n",
        " \n",
        "print(f\"Vou ficando por aqui, foi um prazer te ajudar {nome}. Até uma próxima vez!\", \"\\N{winking face}\")"
      ],
      "execution_count": 5,
      "outputs": [
        {
          "output_type": "stream",
          "text": [
            "Gaby, após analisar o seu perfil selecionamos os seguintes cursos: \n",
            "CAPACITAÇÃO PROFISSIONAL:\n",
            "VENDAS:\n",
            "MARKETING DIGITAL:\n",
            "-----------------------------------------------------------------------------------------------------------------\n",
            "Bom, espero que tenha se indentificado com a escolha que fizemos Gaby. \n",
            "Lembrando que caso, você não ache os cursos selecionados interessantes,\n",
            "poderá refazer a seleção novamente.\n",
            "Vou ficando por aqui, foi um prazer te ajudar Gaby. Até uma próxima vez! 😉\n"
          ],
          "name": "stdout"
        }
      ]
    }
  ]
}