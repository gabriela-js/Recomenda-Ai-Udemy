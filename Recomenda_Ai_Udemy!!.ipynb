{
  "nbformat": 4,
  "nbformat_minor": 0,
  "metadata": {
    "colab": {
      "provenance": [],
      "include_colab_link": true
    },
    "kernelspec": {
      "display_name": "Python 3",
      "name": "python3"
    },
    "language_info": {
      "name": "python"
    }
  },
  "cells": [
    {
      "cell_type": "markdown",
      "metadata": {
        "id": "view-in-github",
        "colab_type": "text"
      },
      "source": [
        "<a href=\"https://colab.research.google.com/github/gabriela-js/Recomenda-Ai-Udemy/blob/main/Recomenda_Ai_Udemy!!.ipynb\" target=\"_parent\"><img src=\"https://colab.research.google.com/assets/colab-badge.svg\" alt=\"Open In Colab\"/></a>"
      ]
    },
    {
      "cell_type": "markdown",
      "metadata": {
        "id": "jlJccLWWqcZT"
      },
      "source": [
        "# **Através, do artigo publicado pela TecnoMundo dos TOP 9 cursos procurados dentro da plataforma Udemy, surgiu a ideia de reutilizar o projeto final proposto pelo curso de Lógica de Programação com Python utilizando módulo e acrescentando a opção de pagamento de um curso via teclado.**\n",
        "\n",
        "\n",
        "---\n",
        "\n"
      ]
    },
    {
      "cell_type": "markdown",
      "metadata": {
        "id": "hjA5Tfqyud21"
      },
      "source": [
        "# **Interface de interação com o usuário**"
      ]
    },
    {
      "cell_type": "code",
      "source": [
        "!pip install emoji"
      ],
      "metadata": {
        "id": "tnjXOX81WoMf",
        "outputId": "32017b1f-31d8-4500-a4b6-09d038f5b7df",
        "colab": {
          "base_uri": "https://localhost:8080/"
        }
      },
      "execution_count": 2,
      "outputs": [
        {
          "output_type": "stream",
          "name": "stdout",
          "text": [
            "Looking in indexes: https://pypi.org/simple, https://us-python.pkg.dev/colab-wheels/public/simple/\n",
            "Collecting emoji\n",
            "  Downloading emoji-2.2.0.tar.gz (240 kB)\n",
            "\u001b[2K     \u001b[90m━━━━━━━━━━━━━━━━━━━━━━━━━━━━━━━━━━━━━━━\u001b[0m \u001b[32m240.9/240.9 KB\u001b[0m \u001b[31m4.1 MB/s\u001b[0m eta \u001b[36m0:00:00\u001b[0m\n",
            "\u001b[?25h  Preparing metadata (setup.py) ... \u001b[?25l\u001b[?25hdone\n",
            "Building wheels for collected packages: emoji\n",
            "  Building wheel for emoji (setup.py) ... \u001b[?25l\u001b[?25hdone\n",
            "  Created wheel for emoji: filename=emoji-2.2.0-py3-none-any.whl size=234926 sha256=eab1ca52ae000da48f7913cfe3fcfeb12f946342dca513dc85b6fcc81b7a2c62\n",
            "  Stored in directory: /root/.cache/pip/wheels/9a/b8/0f/f580817231cbf59f6ade9fd132ff60ada1de9f7dc85521f857\n",
            "Successfully built emoji\n",
            "Installing collected packages: emoji\n",
            "Successfully installed emoji-2.2.0\n"
          ]
        }
      ]
    },
    {
      "cell_type": "code",
      "metadata": {
        "colab": {
          "base_uri": "https://localhost:8080/"
        },
        "id": "rnw023P2ODIJ",
        "outputId": "169d4a2c-e95b-4261-e434-a9aa6d224d70"
      },
      "source": [
        "import emoji\n",
        " \n",
        "print(emoji.emojize(\"Seja Bem-vindo(a) :grinning_face:\", language='alias'))\n",
        "nome = input(\"Digite como gosta de ser chamado(a): \")\n",
        "print(emoji.emojize(f\"Blz {nome}, estou aqui para te auxiliar nas melhores indicações de nossos cursos. :clapping_hands:\"))\n",
        " \n",
        "print(f\"************** Assuntos mais pesquisados na Udemy: *************\")\n",
        "assuntos_preferidos = [\"Criação de conteúdo\",\n",
        "                       \"Capacitação Profissional\",\n",
        "                       \"Vendas\",\n",
        "                       \"Desenvolvimento Web\", \n",
        "                       \"Analise de Dados\",\n",
        "                       \"Negócio\",\n",
        "                       \"Marketing Digital\",\n",
        "                       \"Programação\",\n",
        "                       \"Banco de Dados\", \n",
        "                       \"YouTube\",\n",
        "                       \"Design\"]\n",
        "                       \n",
        "#Exibir todos os elementos dentro da lista\n",
        "for n in range(len(assuntos_preferidos)):\n",
        "    print(f\"{n}. {assuntos_preferidos[n]}\")\n",
        " \n",
        "#função range retornar a sequencia dos numeros\n",
        "#len exibir todos os elementos dentro da lista\n",
        " \n",
        "num_assuntos = input(\n",
        "      \"Agora {nome}, preciso que digite os números dos seus assuntos preferidos (utilize vírgulas. EX: 1,2,3): \"\n",
        "  )\n",
        " \n",
        " \n",
        "tempos = float(input(f\"Muito bem {nome}, preciso que me informe o tempo disponivel para se dedicar aos estudos (minutos):  \\n\"))\n",
        " \n",
        "mostrar_cursos_pagos = float(input(f\"{nome} gostaria de investir quanto?  R$ \"))\n",
        " \n",
        "#Recebe dois tipos de dados, dependendo da sua resposta"
      ],
      "execution_count": 3,
      "outputs": [
        {
          "name": "stdout",
          "output_type": "stream",
          "text": [
            "Seja Bem-vindo(a) 😀\n",
            "Digite como gosta de ser chamado(a): Gabriela\n",
            "Blz Gabriela, estou aqui para te auxiliar nas melhores indicações de nossos cursos. 👏\n",
            "************** Assuntos mais pesquisados na Udemy: *************\n",
            "0. Criação de conteúdo\n",
            "1. Capacitação Profissional\n",
            "2. Vendas\n",
            "3. Desenvolvimento Web\n",
            "4. Analise de Dados\n",
            "5. Negócio\n",
            "6. Marketing Digital\n",
            "7. Programação\n",
            "8. Banco de Dados\n",
            "9. YouTube\n",
            "10. Design\n",
            "Agora {nome}, preciso que digite os números dos seus assuntos preferidos (utilize vírgulas. EX: 1,2,3): 4,6,7\n",
            "Muito bem Gabriela, preciso que me informe o tempo disponivel para se dedicar aos estudos (minutos):  \n",
            "200\n",
            "Gabriela gostaria de investir quanto?  R$ 0\n"
          ]
        }
      ]
    },
    {
      "cell_type": "markdown",
      "metadata": {
        "id": "EVBmQoWbrJ8n"
      },
      "source": [
        " Os tipos de dados de entrada."
      ]
    },
    {
      "cell_type": "code",
      "metadata": {
        "colab": {
          "base_uri": "https://localhost:8080/"
        },
        "id": "4VfxdktuQ7bU",
        "outputId": "bf2f3d0f-6789-4590-f307-099f97ad0884"
      },
      "source": [
        "print(type(nome))\n",
        "print(type(num_assuntos))\n",
        "print(type(tempos))\n",
        "print(type(mostrar_cursos_pagos))\n",
        " \n",
        "print(f\"Nome: {nome}\")\n",
        "print(f\"ID Assuntos preferidos: {num_assuntos}\")\n",
        "print(f\"Tempo de estudos: {tempos} minutos\")\n",
        "print(f\"Mostrar os cursos pagos ou gratuitos: {mostrar_cursos_pagos}\")\n",
        " \n",
        "#split() - separa uma lista em valores de uma string e quebra o espaço dela\n",
        "#strip() - remove espaços que estão antes ou depois da string\n",
        " \n",
        "num_assuntos = num_assuntos.split(\",\")\n",
        "nassuntos = []\n",
        "for item in num_assuntos:\n",
        "  number = int(item.strip())\n",
        "  nassuntos.append(number)\n",
        " \n",
        "print(nassuntos)"
      ],
      "execution_count": 4,
      "outputs": [
        {
          "output_type": "stream",
          "name": "stdout",
          "text": [
            "<class 'str'>\n",
            "<class 'str'>\n",
            "<class 'float'>\n",
            "<class 'float'>\n",
            "Nome: Gabriela\n",
            "ID Assuntos preferidos: 4,6,7\n",
            "Tempo de estudos: 200.0 minutos\n",
            "Mostrar os cursos pagos ou gratuitos: 0.0\n",
            "[4, 6, 7]\n"
          ]
        }
      ]
    },
    {
      "cell_type": "code",
      "metadata": {
        "id": "qF4dPy2JezAj"
      },
      "source": [
        "cursos = [\"Como conseguir fotos, ilustrações e vídeos gratuitos na web\",\n",
        "          \"Como empreender e resolver problemas com metodologia ágil\",\n",
        "          \"Como fazer um ChatBot em 1 dia\",\n",
        "          \"Como fazer um APP em dia! (com Ionic e Firebase)\",\n",
        "          \"Data Science: visualização de dados com python\",\n",
        "          \"Desenvolvendo uma ideia: do conceito a execução\",\n",
        "          \"Curso Completo de Marketing Digital - 23 Cursos em 1\",\n",
        "          \"Curso Completo de Instagram Marketing\",\n",
        "          \"Curso Design Grafico Completo - 7 Cursos do Zero ao Avançado\",\n",
        "          \"Curso de Programação em Python - do básico ao avançado\",\n",
        "          \"Curso Web Moderno com JavaScript 2019 COMPLETO + Projetos\"\n",
        "          \"Do Básico ao Avançado - O Curso Completo de Microsoft Excel\",\n",
        "          \"Google Ads (Adwords) COMPLETO + Remarketing + YoTube Ads\",\n",
        "          \"Power BI Completo - Do Básico ao Avançado\",\n",
        "          \"O Curso Completo de Banco de Dados e SQL, sem mistérios!\",]\n",
        " \n",
        "tempo = [  50,\n",
        "           39,\n",
        "           79,\n",
        "           75,\n",
        "           63,\n",
        "           37,\n",
        "           1680,\n",
        "           480,\n",
        "           1920,\n",
        "           3810,\n",
        "           5340,\n",
        "           690,\n",
        "           960,\n",
        "           570,\n",
        "          3480,\n",
        "         ]\n",
        " \n",
        "categoria_curso = [\n",
        "    [\"design\", \"criação de conteúdo\"],\n",
        "    [\"negocio\", \"capacitação profissional\"],\n",
        "    [\"programação\", \"capacitação profissional\"],\n",
        "    [\"programação\", \"capacitação profissional\", \"banco de dados\"],\n",
        "    [\"analise de dados\", \"programação\"],\n",
        "    [\"criação de conteúdo\", \"capacitação profissional\", \"negocio\"],\n",
        "    [\"marketing digital\", \"vendas\", \"negocio\", \"capacitação profissional\"],\n",
        "    [\"criação de conteúdo\", \"vendas\", \"marketing digital\", \"negocio\"],\n",
        "    [\"design\", \"capacitação profissional\", \"analise de dados\"],\n",
        "    [\"programação\", \"capacitação profissional\", \"criação de conteúdo\"],\n",
        "    [\"desenvolvimento web\", \"programção\", \"capacitação profissional\"],\n",
        "    [\"negocio\", \"vendas\",\"analise de dados\", \"capacitação profissional\"],\n",
        "    [\"criação de conteúdo\", \"youtube\", \"marketing\", \"analise de dados\"],\n",
        "    [\"analise de dados\", \"vendas\", \"capacitação profissional\"],\n",
        "    [\"programação\", \"banco de dados\", \"capacitação profissional\"],\n",
        "    []\n",
        "]\n",
        " \n",
        "gratuito = [0.00,\n",
        "            0.00,\n",
        "            0.00,\n",
        "            0.00,\n",
        "            0.00,\n",
        "            0.00,\n",
        "            349.90,\n",
        "            499.90,\n",
        "            429.90,\n",
        "            349.90,\n",
        "            99.90,\n",
        "            449.90,\n",
        "            279.90,\n",
        "            39.90,\n",
        "            ]"
      ],
      "execution_count": 5,
      "outputs": []
    },
    {
      "cell_type": "code",
      "metadata": {
        "colab": {
          "base_uri": "https://localhost:8080/"
        },
        "id": "mck03ELxJUtw",
        "outputId": "e4bc5ac8-8fe7-4cdf-b4f3-2ffc4405b7aa"
      },
      "source": [
        "assuntos_selecionados = []\n",
        "for n in nassuntos:\n",
        "  assuntos_selecionados.append(assuntos_preferidos[n].upper())\n",
        " \n",
        "print(assuntos_selecionados)"
      ],
      "execution_count": 6,
      "outputs": [
        {
          "output_type": "stream",
          "name": "stdout",
          "text": [
            "['ANALISE DE DADOS', 'MARKETING DIGITAL', 'PROGRAMAÇÃO']\n"
          ]
        }
      ]
    },
    {
      "cell_type": "code",
      "metadata": {
        "colab": {
          "base_uri": "https://localhost:8080/"
        },
        "id": "wTkjB4TeOFhX",
        "outputId": "885195f2-940d-4f13-9ca8-e97303f41a60"
      },
      "source": [
        "print(f\"{nome}, após analisar o seu perfil selecionamos os seguintes cursos: \")\n",
        "for ass in assuntos_selecionados:\n",
        "  print(f\"{ass}:\")\n",
        "  for linha in range(len(cursos)):\n",
        "    #if gratuito[linha] or mostrar_cursos_pagos:\n",
        "    if (ass.lower() in categoria_curso[linha] and gratuito[linha] <= mostrar_cursos_pagos\n",
        "       and tempo[linha] <= tempos):\n",
        "       print(f\"-{cursos[linha]} ({tempo[linha]} min) (R${gratuito[linha]})\")\n",
        " \n",
        " \n",
        "print(\"-----------------------------------------------------------------------------------------------------------------\")\n",
        "print(f\"Bom, espero que tenha se indentificado com a escolha que fizemos {nome}. \\nLembrando que caso, você não ache os cursos selecionados interessantes,\\npoderá refazer a seleção novamente.\")\n",
        " \n",
        "print(f\"Vou ficando por aqui, foi um prazer te ajudar {nome}. Até uma próxima vez!\", \"\\N{winking face}\")"
      ],
      "execution_count": 7,
      "outputs": [
        {
          "output_type": "stream",
          "name": "stdout",
          "text": [
            "Gabriela, após analisar o seu perfil selecionamos os seguintes cursos: \n",
            "ANALISE DE DADOS:\n",
            "-Data Science: visualização de dados com python (63 min) (R$0.0)\n",
            "MARKETING DIGITAL:\n",
            "PROGRAMAÇÃO:\n",
            "-Como fazer um ChatBot em 1 dia (79 min) (R$0.0)\n",
            "-Como fazer um APP em dia! (com Ionic e Firebase) (75 min) (R$0.0)\n",
            "-Data Science: visualização de dados com python (63 min) (R$0.0)\n",
            "-----------------------------------------------------------------------------------------------------------------\n",
            "Bom, espero que tenha se indentificado com a escolha que fizemos Gabriela. \n",
            "Lembrando que caso, você não ache os cursos selecionados interessantes,\n",
            "poderá refazer a seleção novamente.\n",
            "Vou ficando por aqui, foi um prazer te ajudar Gabriela. Até uma próxima vez! 😉\n"
          ]
        }
      ]
    }
  ]
}